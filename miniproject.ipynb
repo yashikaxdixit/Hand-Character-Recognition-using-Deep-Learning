{
 "cells": [
  {
   "cell_type": "code",
   "execution_count": 1,
   "id": "02fd43dd",
   "metadata": {},
   "outputs": [],
   "source": [
    "import tensorflow as tf \n",
    "from tensorflow import keras#api\n",
    "from tensorflow.keras.models import Sequential\n",
    "from tensorflow.keras.layers import Dense,Dropout,Activation,Flatten,Conv2D,MaxPooling2D\n",
    "import numpy as np\n",
    "import matplotlib.pyplot as plt"
   ]
  },
  {
   "cell_type": "code",
   "execution_count": 2,
   "id": "58cef971",
   "metadata": {},
   "outputs": [],
   "source": [
    "from mnist import MNIST#library\n",
    "emnist = MNIST('emnist_data')\n",
    "emnist.select_emnist('balanced')#Here for each char there are equal no. of images to train data 2400im\n",
    "trainIM,trainL AB = emnist.load_training()\n",
    "testIM,testLAB = emnist.load_testing()"
   ]
  },
  {
   "cell_type": "code",
   "execution_count": 3,
   "id": "90ca6d1d",
   "metadata": {},
   "outputs": [],
   "source": [
    "trainIM=np.array(trainIM)\n",
    "trainLAB=np.array(trainLAB)\n",
    "testIM=np.array(testIM)\n",
    "testLAB=np.array(testLAB)\n",
    "#for resizing"
   ]
  },
  {
   "cell_type": "code",
   "execution_count": 4,
   "id": "55074440",
   "metadata": {},
   "outputs": [],
   "source": [
    "trainIM=np.array(trainIM).reshape(-1,28,28)\n",
    "testIM=np.array(testIM).reshape(-1,28,28)\n",
    "#so it can be plotted"
   ]
  },
  {
   "cell_type": "code",
   "execution_count": 5,
   "id": "28939a61",
   "metadata": {
    "scrolled": true
   },
   "outputs": [
    {
     "data": {
      "image/png": "[encoded data removed]",
      "text/plain": [
       "<Figure size 640x480 with 1 Axes>"
      ]
     },
     "metadata": {},
     "output_type": "display_data"
    },
    {
     "data": {
      "text/plain": [
       "<matplotlib.image.AxesImage at 0x2a199d490>"
      ]
     },
     "execution_count": 5,
     "metadata": {},
     "output_type": "execute_result"
    },
    {
     "data": {
      "image/png": "[encoded data removed]",
      "text/plain": [
       "<Figure size 640x480 with 1 Axes>"
      ]
     },
     "metadata": {},
     "output_type": "display_data"
    }
   ],
   "source": [
    "plt.imshow(trainIM[0])\n",
    "plt.show()\n",
    "plt.imshow(trainIM[0],cmap = plt.cm.binary)#cm.binary has reverted the pixels so black is white and vice versa"
   ]
  },
  {
   "cell_type": "code",
   "execution_count": 6,
   "id": "4cfcc9f4",
   "metadata": {},
   "outputs": [
    {
     "name": "stdout",
     "output_type": "stream",
     "text": [
      "[[  0   0   0   0   0   0   0   0   0   0   0   0   0   0   0   0   0   0\n",
      "    0   0   0   0   0   0   0   0   0   0]\n",
      " [  0   0   0   0   0   0   0   0   0   0   0   0   0   0   0   0   0   0\n",
      "    0   0   0   0   0   0   0   0   0   0]\n",
      " [  0   0   0   0   0   0   0   0   0   0   0   0   0   0   0   0   0   0\n",
      "    0   0   0   0   0   0   0   0   0   0]\n",
      " [  0   0   0   0   0   0   0   0   0   0   0   0   0   0   0   0   0   0\n",
      "    0   0   0   0   0   0   0   0   0   0]\n",
      " [  0   0   0   0   0   0   0   0   0   0   0   0   0   0   0   0   0   0\n",
      "    0   0   0   0   0   0   0   0   0   0]\n",
      " [  0   0   0   0   0   0   0   0   0   0   0   0   0   0   0   0   0   0\n",
      "    0   0   0   0   0   0   0   0   0   0]\n",
      " [  0   0   0   0   2   4   4   0   0   0   0   0   0   0   2   4   4   4\n",
      "    4   4   4   4   4   0   0   0   0   0]\n",
      " [  0   0   1   8  77 124 114  45  20   0   0   1  20  50  82 125 127 127\n",
      "  127 127 127 125 114  45   5   0   0   0]\n",
      " [  0   0   7  33 158 213 203 122  67   3   3  10  77 139 172 215 217 217\n",
      "  217 217 217 215 203 122  20   2   0   0]\n",
      " [  0   0  32 113 243 254 254 230 170  24  67 123 220 250 252 254 254 254\n",
      "  254 254 254 254 254 229  80  20   0   0]\n",
      " [  0   0  36 124 249 254 254 245 204  45 123 195 247 254 254 254 254 254\n",
      "  254 254 254 254 254 238 100  27   0   0]\n",
      " [  0   0  21  81 232 254 254 252 236 160 222 247 254 254 254 252 245 233\n",
      "  217 217 217 217 215 158  33   7   0   0]\n",
      " [  0   0   3  22 159 247 254 254 254 251 254 254 254 249 234 173 115  82\n",
      "   39  37  37  37  37  20   1   0   0   0]\n",
      " [  0   0   0   7  95 234 252 254 254 254 254 254 254 234 187  84  34  21\n",
      "    5   4   4   4   4   2   0   0   0   0]\n",
      " [  0   0   0   0  34 202 242 254 254 255 255 255 252 173  84   4   0   0\n",
      "    0   0   0   0   0   0   0   0   0   0]\n",
      " [  0   0   0   0  20 154 207 249 254 254 255 255 251 142  52   1   0   0\n",
      "    0   0   0   0   0   0   0   0   0   0]\n",
      " [  0   0   0   0   1  23  59 207 244 254 254 255 252 172  82   2   0   0\n",
      "    0   0   0   0   0   0   0   0   0   0]\n",
      " [  0   0   0   0   0   0   7  91 163 247 254 254 254 215 125   4   0   0\n",
      "    0   0   0   0   0   0   0   0   0   0]\n",
      " [  0   0   0   0   0   0   1  36  96 234 254 254 252 213 125   4   0   0\n",
      "    0   0   0   0   0   0   0   0   0   0]\n",
      " [  0   0   0   0   0   0   0   4  33 190 244 243 177 110  63   2   0   0\n",
      "    0   0   0   0   0   0   0   0   0   0]\n",
      " [  0   0   0   0   0   0   0   2  19 121 202 200  95  33  18   0   0   0\n",
      "    0   0   0   0   0   0   0   0   0   0]\n",
      " [  0   0   0   0   0   0   0   0   0   8  32  32   7   0   0   0   0   0\n",
      "    0   0   0   0   0   0   0   0   0   0]\n",
      " [  0   0   0   0   0   0   0   0   0   0   0   0   0   0   0   0   0   0\n",
      "    0   0   0   0   0   0   0   0   0   0]\n",
      " [  0   0   0   0   0   0   0   0   0   0   0   0   0   0   0   0   0   0\n",
      "    0   0   0   0   0   0   0   0   0   0]\n",
      " [  0   0   0   0   0   0   0   0   0   0   0   0   0   0   0   0   0   0\n",
      "    0   0   0   0   0   0   0   0   0   0]\n",
      " [  0   0   0   0   0   0   0   0   0   0   0   0   0   0   0   0   0   0\n",
      "    0   0   0   0   0   0   0   0   0   0]\n",
      " [  0   0   0   0   0   0   0   0   0   0   0   0   0   0   0   0   0   0\n",
      "    0   0   0   0   0   0   0   0   0   0]\n",
      " [  0   0   0   0   0   0   0   0   0   0   0   0   0   0   0   0   0   0\n",
      "    0   0   0   0   0   0   0   0   0   0]]\n"
     ]
    }
   ],
   "source": [
    "print(trainIM[0])"
   ]
  },
  {
   "cell_type": "code",
   "execution_count": 7,
   "id": "259459e3",
   "metadata": {},
   "outputs": [
    {
     "data": {
      "text/plain": [
       "<matplotlib.image.AxesImage at 0x2a193af50>"
      ]
     },
     "execution_count": 7,
     "metadata": {},
     "output_type": "execute_result"
    },
    {
     "data": {
      "image/png": "[encoded data removed]",
      "text/plain": [
       "<Figure size 640x480 with 1 Axes>"
      ]
     },
     "metadata": {},
     "output_type": "display_data"
    }
   ],
   "source": [
    "trainIM=tf.keras.utils.normalize(trainIM,axis=1)#easy calc\n",
    "testIM=tf.keras.utils.normalize(testIM,axis=1)\n",
    "plt.imshow(trainIM[0],cmap = plt.cm.binary)\n",
    "#convert bw 0to1"
   ]
  },
  {
   "cell_type": "code",
   "execution_count": 8,
   "id": "2c3ceaeb",
   "metadata": {},
   "outputs": [
    {
     "name": "stdout",
     "output_type": "stream",
     "text": [
      "[[0.         0.         0.         0.         0.         0.\n",
      "  0.         0.         0.         0.         0.         0.\n",
      "  0.         0.         0.         0.         0.         0.\n",
      "  0.         0.         0.         0.         0.         0.\n",
      "  0.         0.         0.         0.        ]\n",
      " [0.         0.         0.         0.         0.         0.\n",
      "  0.         0.         0.         0.         0.         0.\n",
      "  0.         0.         0.         0.         0.         0.\n",
      "  0.         0.         0.         0.         0.         0.\n",
      "  0.         0.         0.         0.        ]\n",
      " [0.         0.         0.         0.         0.         0.\n",
      "  0.         0.         0.         0.         0.         0.\n",
      "  0.         0.         0.         0.         0.         0.\n",
      "  0.         0.         0.         0.         0.         0.\n",
      "  0.         0.         0.         0.        ]\n",
      " [0.         0.         0.         0.         0.         0.\n",
      "  0.         0.         0.         0.         0.         0.\n",
      "  0.         0.         0.         0.         0.         0.\n",
      "  0.         0.         0.         0.         0.         0.\n",
      "  0.         0.         0.         0.        ]\n",
      " [0.         0.         0.         0.         0.         0.\n",
      "  0.         0.         0.         0.         0.         0.\n",
      "  0.         0.         0.         0.         0.         0.\n",
      "  0.         0.         0.         0.         0.         0.\n",
      "  0.         0.         0.         0.        ]\n",
      " [0.         0.         0.         0.         0.         0.\n",
      "  0.         0.         0.         0.         0.         0.\n",
      "  0.         0.         0.         0.         0.         0.\n",
      "  0.         0.         0.         0.         0.         0.\n",
      "  0.         0.         0.         0.        ]\n",
      " [0.         0.         0.         0.         0.00406866 0.00606393\n",
      "  0.0057691  0.         0.         0.         0.         0.\n",
      "  0.         0.         0.00328532 0.00740939 0.00774589 0.00794114\n",
      "  0.00814968 0.00815241 0.00815241 0.00817567 0.00832497 0.\n",
      "  0.         0.         0.         0.        ]\n",
      " [0.         0.         0.01883109 0.041936   0.15664326 0.18798174\n",
      "  0.16441933 0.06355495 0.02869065 0.         0.         0.001224\n",
      "  0.02447561 0.06970241 0.134698   0.23154343 0.24593198 0.25213107\n",
      "  0.25875242 0.25883893 0.25883893 0.25548967 0.23726173 0.11566557\n",
      "  0.03735611 0.         0.         0.        ]\n",
      " [0.         0.         0.13181763 0.17298601 0.32142383 0.32290412\n",
      "  0.2927818  0.17230453 0.09611369 0.00417491 0.00380111 0.01224002\n",
      "  0.09423108 0.19377269 0.28253727 0.39825469 0.42021449 0.43080663\n",
      "  0.44212028 0.44226809 0.44226809 0.43944223 0.42249237 0.3135822\n",
      "  0.14942442 0.05817297 0.         0.        ]\n",
      " [0.         0.         0.60259486 0.59234603 0.49434171 0.38505937\n",
      "  0.36633781 0.3248364  0.24387056 0.03339931 0.08489144 0.15055226\n",
      "  0.26923167 0.34851203 0.41394995 0.47049624 0.49186397 0.50426214\n",
      "  0.51750484 0.51767786 0.51767786 0.519155   0.52863577 0.58860921\n",
      "  0.59769769 0.58172973 0.         0.        ]\n",
      " [0.         0.         0.67791922 0.65000803 0.50654767 0.38505937\n",
      "  0.36633781 0.34602138 0.29264468 0.0626237  0.15584548 0.23868041\n",
      "  0.30227373 0.35408823 0.41723527 0.47049624 0.49186397 0.50426214\n",
      "  0.51750484 0.51767786 0.51767786 0.519155   0.52863577 0.61174232\n",
      "  0.74712212 0.78533513 0.         0.        ]\n",
      " [0.         0.         0.39545288 0.42460202 0.4719641  0.38505937\n",
      "  0.36633781 0.35590771 0.33854973 0.22266205 0.28128208 0.30232853\n",
      "  0.3108402  0.35408823 0.41723527 0.46679155 0.47443572 0.46257118\n",
      "  0.44212028 0.44226809 0.44226809 0.44353006 0.44746729 0.40611465\n",
      "  0.2465503  0.2036054  0.         0.        ]\n",
      " [0.         0.         0.05649327 0.11532401 0.32345815 0.3744475\n",
      "  0.36633781 0.35873237 0.36437131 0.3493011  0.32182725 0.31089654\n",
      "  0.3108402  0.34711798 0.3843821  0.3204561  0.22269432 0.16279329\n",
      "  0.0794594  0.07540977 0.07540977 0.07562494 0.077006   0.05140692\n",
      "  0.00747122 0.         0.         0.        ]\n",
      " [0.         0.         0.         0.036694   0.19326116 0.35473974\n",
      "  0.36345326 0.35873237 0.36437131 0.35347601 0.32182725 0.31089654\n",
      "  0.3108402  0.32620726 0.30717714 0.15559718 0.06584006 0.04169096\n",
      "  0.0101871  0.00815241 0.00815241 0.00817567 0.00832497 0.00514069\n",
      "  0.         0.         0.         0.        ]\n",
      " [0.         0.         0.         0.         0.06916715 0.30622832\n",
      "  0.34903052 0.35873237 0.36437131 0.35486765 0.32309428 0.31212054\n",
      "  0.30839264 0.24117033 0.13798332 0.00740939 0.         0.\n",
      "  0.         0.         0.         0.         0.         0.\n",
      "  0.         0.         0.         0.        ]\n",
      " [0.         0.         0.         0.         0.04068656 0.23346119\n",
      "  0.2985509  0.35167071 0.36437131 0.35347601 0.32309428 0.31212054\n",
      "  0.30716886 0.19795483 0.08541824 0.00185235 0.         0.\n",
      "  0.         0.         0.         0.         0.         0.\n",
      "  0.         0.         0.         0.        ]\n",
      " [0.         0.         0.         0.         0.00203433 0.03486758\n",
      "  0.08509422 0.29235276 0.35002599 0.35347601 0.32182725 0.31212054\n",
      "  0.30839264 0.23977628 0.134698   0.00370469 0.         0.\n",
      "  0.         0.         0.         0.         0.         0.\n",
      "  0.         0.         0.         0.        ]\n",
      " [0.         0.         0.         0.         0.         0.\n",
      "  0.01009592 0.12852223 0.23382884 0.34373454 0.32182725 0.31089654\n",
      "  0.3108402  0.29972035 0.20533232 0.00740939 0.         0.\n",
      "  0.         0.         0.         0.         0.         0.\n",
      "  0.         0.         0.         0.        ]\n",
      " [0.         0.         0.         0.         0.         0.\n",
      "  0.00144227 0.05084396 0.13771514 0.32564325 0.32182725 0.31089654\n",
      "  0.30839264 0.29693225 0.20533232 0.00740939 0.         0.\n",
      "  0.         0.         0.         0.         0.         0.\n",
      "  0.         0.         0.         0.        ]\n",
      " [0.         0.         0.         0.         0.         0.\n",
      "  0.         0.00564933 0.04733958 0.26441119 0.30915688 0.29743252\n",
      "  0.21660911 0.15334529 0.10348749 0.00370469 0.         0.\n",
      "  0.         0.         0.         0.         0.         0.\n",
      "  0.         0.         0.         0.        ]\n",
      " [0.         0.         0.         0.         0.         0.\n",
      "  0.         0.00282466 0.02725612 0.16838818 0.25594135 0.24480043\n",
      "  0.11625913 0.04600359 0.02956785 0.         0.         0.\n",
      "  0.         0.         0.         0.         0.         0.\n",
      "  0.         0.         0.         0.        ]\n",
      " [0.         0.         0.         0.         0.         0.\n",
      "  0.         0.         0.         0.0111331  0.04054516 0.03916807\n",
      "  0.00856646 0.         0.         0.         0.         0.\n",
      "  0.         0.         0.         0.         0.         0.\n",
      "  0.         0.         0.         0.        ]\n",
      " [0.         0.         0.         0.         0.         0.\n",
      "  0.         0.         0.         0.         0.         0.\n",
      "  0.         0.         0.         0.         0.         0.\n",
      "  0.         0.         0.         0.         0.         0.\n",
      "  0.         0.         0.         0.        ]\n",
      " [0.         0.         0.         0.         0.         0.\n",
      "  0.         0.         0.         0.         0.         0.\n",
      "  0.         0.         0.         0.         0.         0.\n",
      "  0.         0.         0.         0.         0.         0.\n",
      "  0.         0.         0.         0.        ]\n",
      " [0.         0.         0.         0.         0.         0.\n",
      "  0.         0.         0.         0.         0.         0.\n",
      "  0.         0.         0.         0.         0.         0.\n",
      "  0.         0.         0.         0.         0.         0.\n",
      "  0.         0.         0.         0.        ]\n",
      " [0.         0.         0.         0.         0.         0.\n",
      "  0.         0.         0.         0.         0.         0.\n",
      "  0.         0.         0.         0.         0.         0.\n",
      "  0.         0.         0.         0.         0.         0.\n",
      "  0.         0.         0.         0.        ]\n",
      " [0.         0.         0.         0.         0.         0.\n",
      "  0.         0.         0.         0.         0.         0.\n",
      "  0.         0.         0.         0.         0.         0.\n",
      "  0.         0.         0.         0.         0.         0.\n",
      "  0.         0.         0.         0.        ]\n",
      " [0.         0.         0.         0.         0.         0.\n",
      "  0.         0.         0.         0.         0.         0.\n",
      "  0.         0.         0.         0.         0.         0.\n",
      "  0.         0.         0.         0.         0.         0.\n",
      "  0.         0.         0.         0.        ]]\n"
     ]
    }
   ],
   "source": [
    "print(trainIM[0])"
   ]
  },
  {
   "cell_type": "code",
   "execution_count": 9,
   "id": "5cfc42bc",
   "metadata": {},
   "outputs": [
    {
     "name": "stdout",
     "output_type": "stream",
     "text": [
      "Training Samples dimension (112800, 28, 28, 1)\n",
      "Testing Samples dimension (18800, 28, 28, 1)\n"
     ]
    }
   ],
   "source": [
    "trainr=np.array(trainIM).reshape(-1,28,28,1)#inc 1 dimention to put convonutional layer\n",
    "testr=np.array(testIM).reshape(-1,28,28,1)\n",
    "print(\"Training Samples dimension\",trainr.shape)\n",
    "print(\"Testing Samples dimension\",testr.shape)"
   ]
  },
  {
   "cell_type": "code",
   "execution_count": 10,
   "id": "625f5a70",
   "metadata": {},
   "outputs": [],
   "source": [
    "model= Sequential()\n",
    "\n",
    "model.add(Conv2D(64,(3,3),input_shape=trainr.shape[1:]))#64 kernels and 3,3 filters\n",
    "model.add(Activation(\"relu\"))# activation function to make it non linear, values <0=remove them\n",
    "model.add(MaxPooling2D(pool_size=(2,2)))#max value of 2x2 matrix and rest will be removed\n",
    "\n",
    "model.add(Conv2D(64,(3,3)))\n",
    "model.add(Activation(\"relu\"))\n",
    "model.add(MaxPooling2D(2,2))\n",
    "\n",
    "model.add(Conv2D(64,(3,3)))\n",
    "model.add(Activation(\"relu\"))\n",
    "model.add(MaxPooling2D(pool_size=(2,2)))\n",
    "\n",
    "model.add(Flatten())#before fully connected layer we need to flatten from 2D to 1D\n",
    "model.add(Dense(128))\n",
    "model.add(Activation(\"relu\"))\n",
    "\n",
    "model.add(Dense(64))#we're reducing size bc minimum is 47\n",
    "model.add(Activation(\"relu\"))\n",
    "\n",
    "model.add(Dense(47))#this last dense layer must be 47\n",
    "model.add(Activation(\"softmax\"))#softmax gives class probabilities for multiple classes"
   ]
  },
  {
   "cell_type": "code",
   "execution_count": 11,
   "id": "2aea96db",
   "metadata": {},
   "outputs": [
    {
     "name": "stdout",
     "output_type": "stream",
     "text": [
      "Model: \"sequential\"\n",
      "_________________________________________________________________\n",
      " Layer (type)                Output Shape              Param #   \n",
      "=================================================================\n",
      " conv2d (Conv2D)             (None, 26, 26, 64)        640       \n",
      "                                                                 \n",
      " activation (Activation)     (None, 26, 26, 64)        0         \n",
      "                                                                 \n",
      " max_pooling2d (MaxPooling2  (None, 13, 13, 64)        0         \n",
      " D)                                                              \n",
      "                                                                 \n",
      " conv2d_1 (Conv2D)           (None, 11, 11, 64)        36928     \n",
      "                                                                 \n",
      " activation_1 (Activation)   (None, 11, 11, 64)        0         \n",
      "                                                                 \n",
      " max_pooling2d_1 (MaxPoolin  (None, 5, 5, 64)          0         \n",
      " g2D)                                                            \n",
      "                                                                 \n",
      " conv2d_2 (Conv2D)           (None, 3, 3, 64)          36928     \n",
      "                                                                 \n",
      " activation_2 (Activation)   (None, 3, 3, 64)          0         \n",
      "                                                                 \n",
      " max_pooling2d_2 (MaxPoolin  (None, 1, 1, 64)          0         \n",
      " g2D)                                                            \n",
      "                                                                 \n",
      " flatten (Flatten)           (None, 64)                0         \n",
      "                                                                 \n",
      " dense (Dense)               (None, 128)               8320      \n",
      "                                                                 \n",
      " activation_3 (Activation)   (None, 128)               0         \n",
      "                                                                 \n",
      " dense_1 (Dense)             (None, 64)                8256      \n",
      "                                                                 \n",
      " activation_4 (Activation)   (None, 64)                0         \n",
      "                                                                 \n",
      " dense_2 (Dense)             (None, 47)                3055      \n",
      "                                                                 \n",
      " activation_5 (Activation)   (None, 47)                0         \n",
      "                                                                 \n",
      "=================================================================\n",
      "Total params: 94127 (367.68 KB)\n",
      "Trainable params: 94127 (367.68 KB)\n",
      "Non-trainable params: 0 (0.00 Byte)\n",
      "_________________________________________________________________\n"
     ]
    }
   ],
   "source": [
    "model.summary()"
   ]
  },
  {
   "cell_type": "code",
   "execution_count": 12,
   "id": "f9f85c25",
   "metadata": {},
   "outputs": [],
   "source": [
    "model.compile(loss='sparse_categorical_crossentropy',optimizer='adam',metrics=['accuracy'])"
   ]
  },
  {
   "cell_type": "code",
   "execution_count": 13,
   "id": "9de4e0f0",
   "metadata": {
    "scrolled": true
   },
   "outputs": [
    {
     "name": "stdout",
     "output_type": "stream",
     "text": [
      "Epoch 1/5\n",
      "2468/2468 [==============================] - 58s 23ms/step - loss: 1.3009 - accuracy: 0.6061 - val_loss: 0.8076 - val_accuracy: 0.7378\n",
      "Epoch 2/5\n",
      "2468/2468 [==============================] - 58s 24ms/step - loss: 0.6908 - accuracy: 0.7708 - val_loss: 0.6433 - val_accuracy: 0.7815\n",
      "Epoch 3/5\n",
      "2468/2468 [==============================] - 59s 24ms/step - loss: 0.5781 - accuracy: 0.8056 - val_loss: 0.5620 - val_accuracy: 0.8137\n",
      "Epoch 4/5\n",
      "2468/2468 [==============================] - 64s 26ms/step - loss: 0.5156 - accuracy: 0.8235 - val_loss: 0.5714 - val_accuracy: 0.8026\n",
      "Epoch 5/5\n",
      "2468/2468 [==============================] - 76s 31ms/step - loss: 0.4733 - accuracy: 0.8354 - val_loss: 0.4956 - val_accuracy: 0.8291\n"
     ]
    },
    {
     "data": {
      "text/plain": [
       "<keras.src.callbacks.History at 0x2e2ea8e50>"
      ]
     },
     "execution_count": 13,
     "metadata": {},
     "output_type": "execute_result"
    }
   ],
   "source": [
    "model.fit(trainr,trainLAB,epochs=5,validation_split=0.3)"
   ]
  },
  {
   "cell_type": "code",
   "execution_count": 14,
   "id": "ff197a06",
   "metadata": {},
   "outputs": [
    {
     "name": "stdout",
     "output_type": "stream",
     "text": [
      "588/588 [==============================] - 6s 10ms/step - loss: 0.5113 - accuracy: 0.8289\n"
     ]
    }
   ],
   "source": [
    "test_loss,test_acc=model.evaluate(testr,testLAB)"
   ]
  },
  {
   "cell_type": "code",
   "execution_count": 15,
   "id": "18e656f0",
   "metadata": {},
   "outputs": [
    {
     "name": "stdout",
     "output_type": "stream",
     "text": [
      "588/588 [==============================] - 6s 10ms/step\n"
     ]
    }
   ],
   "source": [
    "predictions=model.predict([testr])"
   ]
  },
  {
   "cell_type": "code",
   "execution_count": 16,
   "id": "fad94666",
   "metadata": {},
   "outputs": [
    {
     "name": "stdout",
     "output_type": "stream",
     "text": [
      "[[1.8327262e-06 3.6536233e-06 1.2153641e-06 ... 1.7675139e-02\n",
      "  9.1439013e-08 5.9920699e-06]\n",
      " [9.1766433e-06 1.4703554e-09 4.5899844e-07 ... 3.8468050e-05\n",
      "  1.7793867e-05 8.5716847e-06]\n",
      " [1.9735880e-09 4.5860342e-09 9.3432671e-11 ... 1.4198478e-01\n",
      "  1.1770640e-08 8.2754266e-09]\n",
      " ...\n",
      " [4.5335189e-05 3.2296583e-01 7.1456860e-05 ... 2.0407540e-04\n",
      "  9.3655370e-05 7.8475784e-04]\n",
      " [2.1231732e-05 2.1146069e-11 4.3061309e-06 ... 1.3777419e-02\n",
      "  1.0256801e-08 4.1911367e-11]\n",
      " [3.8676834e-10 8.4732712e-08 2.5247806e-07 ... 4.4129160e-06\n",
      "  3.8467665e-04 6.7971309e-06]]\n"
     ]
    }
   ],
   "source": [
    "print(predictions)"
   ]
  },
  {
   "cell_type": "code",
   "execution_count": 17,
   "id": "65c227dc",
   "metadata": {},
   "outputs": [
    {
     "name": "stdout",
     "output_type": "stream",
     "text": [
      "39\n"
     ]
    }
   ],
   "source": [
    "print(np.argmax(predictions[1]))# so actually aramax will return the maximum value index and find the value of it"
   ]
  },
  {
   "cell_type": "code",
   "execution_count": 18,
   "id": "7a7f9294",
   "metadata": {},
   "outputs": [
    {
     "data": {
      "text/plain": [
       "<matplotlib.image.AxesImage at 0x30b0f5050>"
      ]
     },
     "execution_count": 18,
     "metadata": {},
     "output_type": "execute_result"
    },
    {
     "data": {
      "image/png": "[encoded data removed]",
      "text/plain": [
       "<Figure size 640x480 with 1 Axes>"
      ]
     },
     "metadata": {},
     "output_type": "display_data"
    }
   ],
   "source": [
    "plt.imshow(testr[1])\n",
    "#labels_dict ={0:0,1:1,2:2,3:3,4:4,5:5,6:6,7:7,8:8,9:9,10:'A',11:'B',12:'C',13:'D',14:'E',15:'F',16:'G',17:'H',\n",
    "#18:'I',19:'J',20:'K',21:'l',22:'M',23:'N',24:'O',25:'P',26:'Q',27:'R',28:'S',29:'T',30:'u',31:'V',32:'W',33:'X',\n",
    "#34:'Y',35:'Z',36:'a',37:'b',38:'d',39:'e',40:'f',41:'g',42:'h',43:'n',44:'q',45:'r',46:'t'}"
   ]
  },
  {
   "cell_type": "code",
   "execution_count": 19,
   "id": "a6dfac8f",
   "metadata": {},
   "outputs": [],
   "source": [
    "model.save('model.keras')"
   ]
  },
  {
   "cell_type": "raw",
   "id": "f202c242",
   "metadata": {},
   "source": []
  },
  {
   "cell_type": "code",
   "execution_count": 21,
   "id": "e0c98fd4",
   "metadata": {},
   "outputs": [
    {
     "name": "stdout",
     "output_type": "stream",
     "text": [
      "1 2 3 4 \n",
      "\n",
      "5 6 7 8 \n",
      "\n",
      "1 5 7 4 \n",
      "\n",
      "5 3 0 1 \n",
      "\n"
     ]
    }
   ],
   "source": [
    "arr=[[1,2,3,4],[5,6,7,8],[1,5,7,4],[5,3,0,1]]\n",
    "for i in range(len(arr)):\n",
    "    for j in range(len(arr[0])):\n",
    "        print(arr[i][j],end=\" \")\n",
    "    print(\"\\n\")"
   ]
  },
  {
   "cell_type": "code",
   "execution_count": null,
   "id": "60807879",
   "metadata": {},
   "outputs": [],
   "source": []
  }
 ],
 "metadata": {
  "kernelspec": {
   "display_name": "Python 3 (ipykernel)",
   "language": "python",
   "name": "python3"
  },
  "language_info": {
   "codemirror_mode": {
    "name": "ipython",
    "version": 3
   },
   "file_extension": ".py",
   "mimetype": "text/x-python",
   "name": "python",
   "nbconvert_exporter": "python",
   "pygments_lexer": "ipython3",
   "version": "3.11.5"
  }
 },
 "nbformat": 4,
 "nbformat_minor": 5
}
